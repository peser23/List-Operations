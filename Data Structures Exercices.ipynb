{
 "cells": [
  {
   "cell_type": "markdown",
   "metadata": {},
   "source": [
    "## Write a function that takes an object/hash/dictionary of people (keys) and their subsequent ages as its argument, and then it returns the name of the oldest living person."
   ]
  },
  {
   "cell_type": "code",
   "execution_count": 12,
   "metadata": {},
   "outputs": [
    {
     "name": "stdout",
     "output_type": "stream",
     "text": [
      "[(48, 'Tom'), (48, 'Peter'), (35, 'Maura'), (34, 'Herb'), (22, 'Cindy')]\n",
      "48\n",
      "['Tom', 'Peter']\n"
     ]
    }
   ],
   "source": [
    "persons = {'Peter':48,'Maura':35,'Tom':48,'Cindy':22,'Herb':34}\n",
    "\n",
    "persons_tpl = []\n",
    "for k,v in persons.items():\n",
    "    persons_tpl.append((v,k))\n",
    "\n",
    "persons_sorted = sorted(persons_tpl,reverse=True)\n",
    "print(persons_sorted)\n",
    "max_age = persons_sorted[0][0]\n",
    "print(max_age)\n",
    "\n",
    "oldest = [n for a,n in persons_sorted if a == max_age]\n",
    "print(oldest)    \n"
   ]
  },
  {
   "cell_type": "markdown",
   "metadata": {},
   "source": [
    "## Write two functions. Both take a base and an exponent as arguments and return the value of base^exponent. Use recursion in the first function and a loop in the second. Benchmark the results."
   ]
  },
  {
   "cell_type": "code",
   "execution_count": 30,
   "metadata": {},
   "outputs": [
    {
     "name": "stdout",
     "output_type": "stream",
     "text": [
      "88817841970012523233890533447265625\n",
      "Time taken for recursion: 0.00013000000035390258 seconds\n",
      "\n",
      "\n",
      "88817841970012523233890533447265625\n",
      "Time taken for loop: 4.200000148557592e-05 seconds\n"
     ]
    }
   ],
   "source": [
    "import time\n",
    "base = 25\n",
    "exponent = 25\n",
    "\n",
    "class Timer:\n",
    "    def __enter__(self):\n",
    "        self.start = time.perf_counter()\n",
    "        \n",
    "    def __exit__(self, *args):\n",
    "        self.end = time.perf_counter()\n",
    "        self.timeinterval = self.end - self.start\n",
    "\n",
    "def use_loop(base, exponent):\n",
    "    answer = 1\n",
    "    for i in range(exponent):\n",
    "        answer = answer * base\n",
    "    return answer\n",
    "\n",
    "def use_recursion(base, exponent):\n",
    "    if exponent == 0:\n",
    "        return 1\n",
    "    else:\n",
    "        return base * use_recursion(base, exponent -1)\n",
    "\n",
    "t1 = Timer()\n",
    "with t1:\n",
    "    print(use_recursion(base, exponent))\n",
    "print(\"Time taken for recursion: {0} seconds\".format(t1.timeinterval))\n",
    "\n",
    "print(\"\\n\")\n",
    "t2 = Timer()\n",
    "with t2:\n",
    "    print(use_loop(base, exponent))\n",
    "print(\"Time taken for loop: {0} seconds\".format(t2.timeinterval))\n"
   ]
  },
  {
   "cell_type": "markdown",
   "metadata": {},
   "source": [
    "## Find Odd Occurring Element: Given an integer array, one element occurs odd number of times and all others have even occurrences. Find the element with odd occurrences."
   ]
  },
  {
   "cell_type": "code",
   "execution_count": 96,
   "metadata": {},
   "outputs": [
    {
     "name": "stdout",
     "output_type": "stream",
     "text": [
      "{1: 4, 2: 4, 3: 3, 4: 2}\n",
      "3\n"
     ]
    }
   ],
   "source": [
    "mylist = [1,2,3,2,3,3,1,1,2,2,4,4,1]\n",
    "\n",
    "mydict = dict()\n",
    "for item in mylist:\n",
    "    mydict[item] = mydict.get(item,0) + 1\n",
    "print(mydict)\n",
    "\n",
    "newlist = \",\".join(str(k) for k,v in mydict.items() if v % 2 != 0)\n",
    "print(newlist)\n"
   ]
  },
  {
   "cell_type": "markdown",
   "metadata": {},
   "source": [
    "## Find Next Higher Number With Same Digits: Write a function that takes an integer and returns the next higher number that uses only the digits in that number. For example - 1345 => 1354. Hint: Write tests first!"
   ]
  },
  {
   "cell_type": "markdown",
   "metadata": {},
   "source": [
    "answer = https://www.studytonight.com/code/python/algo/find-greater-number-using-same-digits.php\n",
    "         https://www.ideserve.co.in/learn/next-greater-number-using-same-digits#algorithmVisualization\n",
    "\n"
   ]
  },
  {
   "cell_type": "markdown",
   "metadata": {},
   "source": [
    "## Ramp Numbers A ramp number is a number whose digits from left to right either only rise or stay the same. 1234 is a ramp number as is 1124. 1032 is not.\n",
    "Input: A positive integer, n.\n",
    "Output: true if the input is a ramp number, false if it is not"
   ]
  },
  {
   "cell_type": "code",
   "execution_count": 44,
   "metadata": {},
   "outputs": [
    {
     "name": "stdout",
     "output_type": "stream",
     "text": [
      "[1, 2, 4, 8]\n",
      "1248 is a ramp Number\n"
     ]
    }
   ],
   "source": [
    "mynum = 1248\n",
    "\n",
    "mylist = [int(num) for num in str(mynum)]\n",
    "print(mylist)\n",
    "\n",
    "mysortedlist = sorted(mylist)\n",
    "if mysortedlist == mylist:\n",
    "    print(\"{0} is a ramp Number\".format(mynum))\n",
    "else:\n",
    "    print(\"{0} is NOT a ramp Number\".format(mynum))"
   ]
  },
  {
   "cell_type": "markdown",
   "metadata": {},
   "source": [
    "## Combine and Sort: Write a non-destructive function that takes two arrays and returns a new array with all items in alphabetical order.\n",
    "Input: Two arrays, ['cat', 'dog', 'fish', 'zebra'], ['lion', 'aardvark', 'gorilla']\n",
    "Output: A new array with all items in alphabetical order, ['aardvark', 'cat', 'dog', 'fish', 'gorilla', 'lion', 'zebra']"
   ]
  },
  {
   "cell_type": "code",
   "execution_count": 51,
   "metadata": {},
   "outputs": [
    {
     "name": "stdout",
     "output_type": "stream",
     "text": [
      "['aardvark', 'cat', 'dog', 'fish', 'gorilla', 'lion', 'zebra']\n"
     ]
    }
   ],
   "source": [
    "list1, list2 = ['cat', 'dog', 'fish', 'zebra'], ['lion', 'aardvark', 'gorilla']\n",
    "\n",
    "list3 = list1 + list2\n",
    "finallist =  sorted(list3)\n",
    "print(finallist)"
   ]
  },
  {
   "cell_type": "markdown",
   "metadata": {},
   "source": [
    "## Count It: Count the letters in a string.\n",
    "Input: A string - like 'Hello World'\n",
    "Output: Letters and how often they show up. - d:1 e:1 h:1 l:3 o:2 r:1 w:1\n",
    "Special: Convert all to lowercase. Ignore whitespace and anything not a-z\n",
    "Challenge input: 'The quick brown fox jumps over the lazy dog and the sleeping cat early in the day.'"
   ]
  },
  {
   "cell_type": "code",
   "execution_count": 60,
   "metadata": {},
   "outputs": [
    {
     "name": "stdout",
     "output_type": "stream",
     "text": [
      "Thequickbrownfoxjumpsoverthelazydogandthesleepingcatearlyintheday\n",
      "{'t': 5, 'h': 4, 'e': 8, 'q': 1, 'u': 2, 'i': 3, 'c': 2, 'k': 1, 'b': 1, 'r': 3, 'o': 4, 'w': 1, 'n': 4, 'f': 1, 'x': 1, 'j': 1, 'm': 1, 'p': 2, 's': 2, 'v': 1, 'l': 3, 'a': 5, 'z': 1, 'y': 3, 'd': 3, 'g': 2}\n"
     ]
    }
   ],
   "source": [
    "mystr = \"The quick brown fox jumps over the lazy 'dog and the sleeping cat early in the day. \"\n",
    "\n",
    "mydict = dict()\n",
    "#mystr = mystr.replace(\" \", \"\").replace(\".\", \"\")\n",
    "mystr = ''.join(e for e in mystr if e.isalnum())\n",
    "print(mystr)\n",
    "for mychar in mystr:\n",
    "    mychar = mychar.lower()\n",
    "    mydict[mychar] = mydict.get(mychar,0) + 1\n",
    "\n",
    "print(mydict)\n"
   ]
  },
  {
   "cell_type": "markdown",
   "metadata": {},
   "source": [
    "## CSV Parse: Write a function that takes a string as an argument, where all values are either and integer or a string, and then return an array of the parsed input string. Examples:\n",
    "'3,7,9,1,25' => [ 3, 7, 9, 1, 25 ]\n",
    "'1, \"one\", 2, \"two\", 3, \"three\"' => [1, \"one\", 2, \"two\", 3, \"three\"]"
   ]
  },
  {
   "cell_type": "code",
   "execution_count": 71,
   "metadata": {},
   "outputs": [
    {
     "name": "stdout",
     "output_type": "stream",
     "text": [
      "[3, 7, 9, 1, 25]\n",
      "[1, '\"one\"', 2, ' \"two\"', 3, ' \"three\"']\n"
     ]
    }
   ],
   "source": [
    "str1 = '3,7,9,1,25'\n",
    "str2 = '1,\"one\",2, \"two\", 3, \"three\"'\n",
    "\n",
    "str1list = str1.split(\",\")\n",
    "str2list = str2.split(\",\")\n",
    "\n",
    "str1out = [int(s) if s.replace(\" \",\"\").isdigit() == True else s for s in str1list]\n",
    "print(str1out)\n",
    "str2out = [int(s) if s.replace(\" \",\"\").isdigit() == True else s for s in str2list]\n",
    "print(str2out)"
   ]
  },
  {
   "cell_type": "markdown",
   "metadata": {},
   "source": [
    "## Create a function that takes a word as an argument and returns true if and only if all of the vowels in the word are the same.\n",
    "myFn('oligopoly') => false\n",
    "\n",
    "myFn('zoom') => true"
   ]
  },
  {
   "cell_type": "code",
   "execution_count": 77,
   "metadata": {},
   "outputs": [
    {
     "name": "stdout",
     "output_type": "stream",
     "text": [
      "True\n"
     ]
    }
   ],
   "source": [
    "str1 = 'oligopoly' #zoom\n",
    "\n",
    "mydict = {}\n",
    "for s in str1:\n",
    "    if s in 'aeiou':\n",
    "        mydict[s] = mydict.get(s,0) + 1\n",
    "        \n",
    "if(len(mydict) == 1):\n",
    "    print(\"True\")\n",
    "else:\n",
    "    print(\"False\")\n",
    "\n"
   ]
  },
  {
   "cell_type": "markdown",
   "metadata": {},
   "source": [
    "## Weird Words: Write a function weirdWords() that takes a string and changes every letter to the next letter in the alphabet and then returns the result. Note: spaces and special characters should remain the same. Capital letters should remain capitalized.\n",
    "Input: What is your name?\n",
    "\n",
    "Output: Xibu jt zpvs obnf?"
   ]
  },
  {
   "cell_type": "code",
   "execution_count": 85,
   "metadata": {},
   "outputs": [
    {
     "name": "stdout",
     "output_type": "stream",
     "text": [
      "Xibu jt zpvs obnf?\n"
     ]
    }
   ],
   "source": [
    "str1 = \"What is your name?\"\n",
    "alphabet = \"abcdefghijklmnopqrstuvwxyzABCDEFGHIJKLMNOPQRSTUVWXYZ\"\n",
    "\n",
    "def get_next_letter(letter):\n",
    "    alplist = [a for a in alphabet]\n",
    "    index = alplist.index(letter)\n",
    "    return alplist[index+1]\n",
    "\n",
    "strout = \"\".join(a if not a.isalpha() else get_next_letter(a) for a in str1)\n",
    "print(strout)\n",
    "\n"
   ]
  },
  {
   "cell_type": "markdown",
   "metadata": {},
   "source": [
    "## Intersection: Write a function called intersection that takes two arrays as arguments and returns an array of the items that are in both input arrays. \n",
    "For example => intersection([1,2,3], [1,3,5]) should return [1,3]. Write tests!"
   ]
  },
  {
   "cell_type": "code",
   "execution_count": 86,
   "metadata": {},
   "outputs": [
    {
     "name": "stdout",
     "output_type": "stream",
     "text": [
      "[1, 3]\n"
     ]
    }
   ],
   "source": [
    "list1 = [1,2,3]\n",
    "list2 = [3,5,4,7,1]\n",
    "\n",
    "newlist = [num for num in list1 if num in list2]\n",
    "print(newlist)\n"
   ]
  }
 ],
 "metadata": {
  "kernelspec": {
   "display_name": "Python 3",
   "language": "python",
   "name": "python3"
  },
  "language_info": {
   "codemirror_mode": {
    "name": "ipython",
    "version": 3
   },
   "file_extension": ".py",
   "mimetype": "text/x-python",
   "name": "python",
   "nbconvert_exporter": "python",
   "pygments_lexer": "ipython3",
   "version": "3.8.5"
  }
 },
 "nbformat": 4,
 "nbformat_minor": 4
}
