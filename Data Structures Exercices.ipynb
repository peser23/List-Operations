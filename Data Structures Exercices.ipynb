{
 "cells": [
  {
   "cell_type": "markdown",
   "metadata": {},
   "source": [
    "## Write a function that takes an object/hash/dictionary of people (keys) and their subsequent ages as its argument, and then it returns the name of the oldest living person."
   ]
  },
  {
   "cell_type": "code",
   "execution_count": 12,
   "metadata": {},
   "outputs": [
    {
     "name": "stdout",
     "output_type": "stream",
     "text": [
      "[(48, 'Tom'), (48, 'Peter'), (35, 'Maura'), (34, 'Herb'), (22, 'Cindy')]\n",
      "48\n",
      "['Tom', 'Peter']\n"
     ]
    }
   ],
   "source": [
    "persons = {'Peter':48,'Maura':35,'Tom':48,'Cindy':22,'Herb':34}\n",
    "\n",
    "persons_tpl = []\n",
    "for k,v in persons.items():\n",
    "    persons_tpl.append((v,k))\n",
    "\n",
    "persons_sorted = sorted(persons_tpl,reverse=True)\n",
    "print(persons_sorted)\n",
    "max_age = persons_sorted[0][0]\n",
    "print(max_age)\n",
    "\n",
    "oldest = [n for a,n in persons_sorted if a == max_age]\n",
    "print(oldest)    \n"
   ]
  },
  {
   "cell_type": "markdown",
   "metadata": {},
   "source": [
    "## Write two functions. Both take a base and an exponent as arguments and return the value of base^exponent. Use recursion in the first function and a loop in the second. Benchmark the results."
   ]
  },
  {
   "cell_type": "code",
   "execution_count": 30,
   "metadata": {},
   "outputs": [
    {
     "name": "stdout",
     "output_type": "stream",
     "text": [
      "88817841970012523233890533447265625\n",
      "Time taken for recursion: 0.00013000000035390258 seconds\n",
      "\n",
      "\n",
      "88817841970012523233890533447265625\n",
      "Time taken for loop: 4.200000148557592e-05 seconds\n"
     ]
    }
   ],
   "source": [
    "import time\n",
    "base = 25\n",
    "exponent = 25\n",
    "\n",
    "class Timer:\n",
    "    def __enter__(self):\n",
    "        self.start = time.perf_counter()\n",
    "        \n",
    "    def __exit__(self, *args):\n",
    "        self.end = time.perf_counter()\n",
    "        self.timeinterval = self.end - self.start\n",
    "\n",
    "def use_loop(base, exponent):\n",
    "    answer = 1\n",
    "    for i in range(exponent):\n",
    "        answer = answer * base\n",
    "    return answer\n",
    "\n",
    "def use_recursion(base, exponent):\n",
    "    if exponent == 0:\n",
    "        return 1\n",
    "    else:\n",
    "        return base * use_recursion(base, exponent -1)\n",
    "\n",
    "t1 = Timer()\n",
    "with t1:\n",
    "    print(use_recursion(base, exponent))\n",
    "print(\"Time taken for recursion: {0} seconds\".format(t1.timeinterval))\n",
    "\n",
    "print(\"\\n\")\n",
    "t2 = Timer()\n",
    "with t2:\n",
    "    print(use_loop(base, exponent))\n",
    "print(\"Time taken for loop: {0} seconds\".format(t2.timeinterval))\n"
   ]
  },
  {
   "cell_type": "markdown",
   "metadata": {},
   "source": [
    "## Find Odd Occurring Element: Given an integer array, one element occurs odd number of times and all others have even occurrences. Find the element with odd occurrences."
   ]
  },
  {
   "cell_type": "code",
   "execution_count": 37,
   "metadata": {},
   "outputs": [
    {
     "ename": "AttributeError",
     "evalue": "'dict_values' object has no attribute 'index'",
     "output_type": "error",
     "traceback": [
      "\u001b[1;31m---------------------------------------------------------------------------\u001b[0m",
      "\u001b[1;31mAttributeError\u001b[0m                            Traceback (most recent call last)",
      "\u001b[1;32m<ipython-input-37-9872fe24ce8b>\u001b[0m in \u001b[0;36m<module>\u001b[1;34m\u001b[0m\n\u001b[0;32m      4\u001b[0m \u001b[1;32mfor\u001b[0m \u001b[0mitem\u001b[0m \u001b[1;32min\u001b[0m \u001b[0mmylist\u001b[0m\u001b[1;33m:\u001b[0m\u001b[1;33m\u001b[0m\u001b[1;33m\u001b[0m\u001b[0m\n\u001b[0;32m      5\u001b[0m     \u001b[0mmydict\u001b[0m\u001b[1;33m[\u001b[0m\u001b[0mitem\u001b[0m\u001b[1;33m]\u001b[0m \u001b[1;33m=\u001b[0m \u001b[0mmydict\u001b[0m\u001b[1;33m.\u001b[0m\u001b[0mget\u001b[0m\u001b[1;33m(\u001b[0m\u001b[0mitem\u001b[0m\u001b[1;33m,\u001b[0m\u001b[1;36m0\u001b[0m\u001b[1;33m)\u001b[0m \u001b[1;33m+\u001b[0m \u001b[1;36m1\u001b[0m\u001b[1;33m\u001b[0m\u001b[1;33m\u001b[0m\u001b[0m\n\u001b[1;32m----> 6\u001b[1;33m \u001b[0mprint\u001b[0m\u001b[1;33m(\u001b[0m\u001b[1;33m(\u001b[0m\u001b[0mmydict\u001b[0m\u001b[1;33m.\u001b[0m\u001b[0mvalues\u001b[0m\u001b[1;33m(\u001b[0m\u001b[1;33m)\u001b[0m\u001b[1;33m)\u001b[0m\u001b[1;33m.\u001b[0m\u001b[0mindex\u001b[0m\u001b[1;33m(\u001b[0m\u001b[1;36m3\u001b[0m\u001b[1;33m)\u001b[0m\u001b[1;33m)\u001b[0m\u001b[1;33m\u001b[0m\u001b[1;33m\u001b[0m\u001b[0m\n\u001b[0m\u001b[0;32m      7\u001b[0m \u001b[1;33m\u001b[0m\u001b[0m\n\u001b[0;32m      8\u001b[0m \u001b[1;33m\u001b[0m\u001b[0m\n",
      "\u001b[1;31mAttributeError\u001b[0m: 'dict_values' object has no attribute 'index'"
     ]
    }
   ],
   "source": [
    "mylist = [1,2,3,2,3,3,1,1,1,2,2,4,4]\n",
    "\n",
    "mydict = dict()\n",
    "for item in mylist:\n",
    "    mydict[item] = mydict.get(item,0) + 1\n",
    "print((mydict.values()).index(3))\n",
    "\n",
    "\n"
   ]
  },
  {
   "cell_type": "markdown",
   "metadata": {},
   "source": [
    "## Find Next Higher Number With Same Digits: Write a function that takes an integer and returns the next higher number that uses only the digits in that number. For example - 1345 => 1354. Hint: Write tests first!"
   ]
  },
  {
   "cell_type": "markdown",
   "metadata": {},
   "source": [
    "answer = https://www.studytonight.com/code/python/algo/find-greater-number-using-same-digits.php\n",
    "         https://www.ideserve.co.in/learn/next-greater-number-using-same-digits#algorithmVisualization\n",
    "\n"
   ]
  },
  {
   "cell_type": "markdown",
   "metadata": {},
   "source": [
    "## Ramp Numbers A ramp number is a number whose digits from left to right either only rise or stay the same. 1234 is a ramp number as is 1124. 1032 is not.\n",
    "Input: A positive integer, n.\n",
    "Output: true if the input is a ramp number, false if it is not"
   ]
  },
  {
   "cell_type": "code",
   "execution_count": 44,
   "metadata": {},
   "outputs": [
    {
     "name": "stdout",
     "output_type": "stream",
     "text": [
      "[1, 2, 4, 8]\n",
      "1248 is a ramp Number\n"
     ]
    }
   ],
   "source": [
    "mynum = 1248\n",
    "\n",
    "mylist = [int(num) for num in str(mynum)]\n",
    "print(mylist)\n",
    "\n",
    "mysortedlist = sorted(mylist)\n",
    "if mysortedlist == mylist:\n",
    "    print(\"{0} is a ramp Number\".format(mynum))\n",
    "else:\n",
    "    print(\"{0} is NOT a ramp Number\".format(mynum))"
   ]
  },
  {
   "cell_type": "markdown",
   "metadata": {},
   "source": [
    "## Combine and Sort: Write a non-destructive function that takes two arrays and returns a new array with all items in alphabetical order.\n",
    "Input: Two arrays, ['cat', 'dog', 'fish', 'zebra'], ['lion', 'aardvark', 'gorilla']\n",
    "Output: A new array with all items in alphabetical order, ['aardvark', 'cat', 'dog', 'fish', 'gorilla', 'lion', 'zebra']"
   ]
  },
  {
   "cell_type": "code",
   "execution_count": 49,
   "metadata": {},
   "outputs": [
    {
     "name": "stdout",
     "output_type": "stream",
     "text": [
      "['cat', 'dog', 'fish', 'zebra', 'lion', 'aardvark', 'gorilla']\n"
     ]
    }
   ],
   "source": [
    "list1, list2 = ['cat', 'dog', 'fish', 'zebra'], ['lion', 'aardvark', 'gorilla']\n",
    "\n",
    "ziplist = list1 + list2\n",
    "print(sorted(ziplist))"
   ]
  }
 ],
 "metadata": {
  "kernelspec": {
   "display_name": "Python 3",
   "language": "python",
   "name": "python3"
  },
  "language_info": {
   "codemirror_mode": {
    "name": "ipython",
    "version": 3
   },
   "file_extension": ".py",
   "mimetype": "text/x-python",
   "name": "python",
   "nbconvert_exporter": "python",
   "pygments_lexer": "ipython3",
   "version": "3.8.5"
  }
 },
 "nbformat": 4,
 "nbformat_minor": 4
}
