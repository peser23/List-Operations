{
 "cells": [
  {
   "cell_type": "markdown",
   "metadata": {},
   "source": [
    "Two Sum: Write a function that takes an array of integers and a target integer. \n",
    "It should find two different items in the array that, when added together, give the target value. The indices of these items should then be returned in an array like so: [index1, index2].\n",
    "input: [1, 2, 3, 4, 5, 6, 7], 13\n",
    "output: [5, 6]"
   ]
  },
  {
   "cell_type": "code",
   "execution_count": 60,
   "metadata": {},
   "outputs": [
    {
     "name": "stdout",
     "output_type": "stream",
     "text": [
      "[(5, 6)]\n"
     ]
    }
   ],
   "source": [
    "list1 = [1, 2, 3, 4, 5, 6, 7]\n",
    "num = 13\n",
    "\n",
    "def find_addends(list1, num):\n",
    "    \"\"\"Find item indices in list1 whose sum is equal to num.\"\"\"\n",
    "    addends = []\n",
    "    for i in range(0,len(list1)):\n",
    "        for j in range(0,len(list1)):            \n",
    "            if i != j and list1[i] + list1[j] == num:\n",
    "                if (j,i) not in addends:\n",
    "                    addends.append((i,j))\n",
    "    return addends\n",
    "\n",
    "print(find_addends(list1,num))\n",
    "\n"
   ]
  },
  {
   "cell_type": "markdown",
   "metadata": {},
   "source": [
    "Reverse: Write a function that takes a string as an argument and returns the string in reversed order. Test if the string is the same reversed (Palindrome)."
   ]
  },
  {
   "cell_type": "code",
   "execution_count": 31,
   "metadata": {},
   "outputs": [
    {
     "name": "stdout",
     "output_type": "stream",
     "text": [
      "1manam\n",
      "manam1 is NOT Palindrome\n"
     ]
    }
   ],
   "source": [
    "input_string = \"manam1\"\n",
    "\n",
    "def reverse_str(input_string):\n",
    "    return input_string[::-1]\n",
    "\n",
    "str = reverse_str(input_string)\n",
    "print(str)\n",
    "if str == input_string:\n",
    "    print(\"{0} is Palindrome\".format(input_string))\n",
    "else:\n",
    "    print(\"{0} is NOT Palindrome\".format(input_string))"
   ]
  },
  {
   "cell_type": "markdown",
   "metadata": {},
   "source": [
    "Longest Word: Write a function that takes a string and returns the longest word in the string."
   ]
  },
  {
   "cell_type": "code",
   "execution_count": 50,
   "metadata": {},
   "outputs": [
    {
     "name": "stdout",
     "output_type": "stream",
     "text": [
      "Longest word is indeeependently\n"
     ]
    }
   ],
   "source": [
    "input_sentence = \"A grammatical unit that is syntactically indeeependently and has a subject that is expressed or, as in imperative sentences\"\n",
    "\n",
    "words = input_sentence.split()\n",
    "word_tpl = []\n",
    "for word in words:\n",
    "    word_tpl.append((len(word),word))\n",
    "    \n",
    "sorted_list = sorted(word_tpl,reverse=True)\n",
    "\n",
    "for length,word in sorted_list[0:1:]:\n",
    "    print(\"Longest word is {0}\".format(word))"
   ]
  },
  {
   "cell_type": "markdown",
   "metadata": {},
   "source": [
    "Write a function that takes a single string as the input then return the number of vowels the string contains. "
   ]
  },
  {
   "cell_type": "code",
   "execution_count": 58,
   "metadata": {},
   "outputs": [
    {
     "name": "stdout",
     "output_type": "stream",
     "text": [
      "7\n",
      "7\n"
     ]
    }
   ],
   "source": [
    "input_sentence = \"A grammatical unit\"\n",
    "\n",
    "#METHOD 1\n",
    "count = 0\n",
    "for letter in input_sentence:\n",
    "    if letter.lower() in 'aeiou':\n",
    "        count += 1\n",
    "print(count)\n",
    "\n",
    "#METHOD 2\n",
    "count = len([letter for letter in input_sentence if letter.lower() in 'aeiou'])\n",
    "print(count)"
   ]
  },
  {
   "cell_type": "markdown",
   "metadata": {},
   "source": [
    "Sum Digits w/drop: Generate a random number from 1000 to 9999 and output the sum of its digits, repeatedly, dropping the left-most digit after each iteration, until there is only one digit only. \n",
    "    For example, if the number is 1049, then the output should be 14, 13, 13, 9."
   ]
  },
  {
   "cell_type": "code",
   "execution_count": 75,
   "metadata": {},
   "outputs": [
    {
     "name": "stdout",
     "output_type": "stream",
     "text": [
      "[8, 9, 0, 4]\n",
      "21\n",
      "13\n",
      "4\n",
      "4\n"
     ]
    }
   ],
   "source": [
    "from random import randint\n",
    "\n",
    "num = randint(1000, 9999)\n",
    "converted_num = f'{num}'  \n",
    "\n",
    "num_list = [int(n) for n in converted_num]\n",
    "print(num_list)\n",
    "\n",
    "while len(num_list) > 0:\n",
    "    print(sum(num_list))\n",
    "    del num_list[0]\n"
   ]
  },
  {
   "cell_type": "markdown",
   "metadata": {},
   "source": [
    "Time Difference: Write a function that takes two times in hours and minutes and returns the difference."
   ]
  },
  {
   "cell_type": "code",
   "execution_count": 85,
   "metadata": {},
   "outputs": [
    {
     "name": "stdout",
     "output_type": "stream",
     "text": [
      "-1 day, 23:00:00\n"
     ]
    }
   ],
   "source": [
    "from datetime import datetime\n",
    "str1 = \"2:30\"\n",
    "str2 = \"1:30\"\n",
    "date_time_obj1  = datetime.strptime(str1, '%H:%M')\n",
    "date_time_obj2  = datetime.strptime(str2, '%H:%M')\n",
    "\n",
    "time_delta = date_time_obj2 - date_time_obj1\n",
    "print(time_delta)"
   ]
  },
  {
   "cell_type": "markdown",
   "metadata": {},
   "source": [
    "Time Convert: Write a function that takes an integer then returns the number in hours and minutes. For example, 63 should return 1:3."
   ]
  },
  {
   "cell_type": "code",
   "execution_count": 93,
   "metadata": {},
   "outputs": [
    {
     "name": "stdout",
     "output_type": "stream",
     "text": [
      "2:25\n"
     ]
    }
   ],
   "source": [
    "import math\n",
    "num = 145\n",
    "\n",
    "hours = math.floor(num / 60)\n",
    "#print(hours)\n",
    "mins = num % 60\n",
    "#print(mins)\n",
    "print(\"{0}:{1}\".format(hours,mins))"
   ]
  },
  {
   "cell_type": "markdown",
   "metadata": {},
   "source": [
    "Write a function that takes an object/hash/dictionary of people (keys) and their subsequent ages as its argument, and then it returns the name of the oldest living person.\n"
   ]
  },
  {
   "cell_type": "code",
   "execution_count": null,
   "metadata": {},
   "outputs": [],
   "source": []
  },
  {
   "cell_type": "markdown",
   "metadata": {},
   "source": [
    "Write two functions. Both take a base and an exponent as arguments and return the value of base^exponent. Use recursion in the first function and a loop in the second. Benchmark the results."
   ]
  }
 ],
 "metadata": {
  "kernelspec": {
   "display_name": "Python 3",
   "language": "python",
   "name": "python3"
  },
  "language_info": {
   "codemirror_mode": {
    "name": "ipython",
    "version": 3
   },
   "file_extension": ".py",
   "mimetype": "text/x-python",
   "name": "python",
   "nbconvert_exporter": "python",
   "pygments_lexer": "ipython3",
   "version": "3.8.5"
  }
 },
 "nbformat": 4,
 "nbformat_minor": 4
}
